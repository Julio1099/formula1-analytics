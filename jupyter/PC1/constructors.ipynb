{
 "cells": [
  {
   "cell_type": "code",
   "execution_count": 4,
   "metadata": {},
   "outputs": [
    {
     "name": "stdout",
     "output_type": "stream",
     "text": [
      "+-------------+--------------+----------+-----------+------------------------------------------------------------+\n",
      "|constructorId|constructorRef|name      |nationality|url                                                         |\n",
      "+-------------+--------------+----------+-----------+------------------------------------------------------------+\n",
      "|1            |mclaren       |McLaren   |British    |http://en.wikipedia.org/wiki/McLaren                        |\n",
      "|2            |bmw_sauber    |BMW Sauber|German     |http://en.wikipedia.org/wiki/BMW_Sauber                     |\n",
      "|3            |williams      |Williams  |British    |http://en.wikipedia.org/wiki/Williams_Grand_Prix_Engineering|\n",
      "|4            |renault       |Renault   |French     |http://en.wikipedia.org/wiki/Renault_in_Formula_One         |\n",
      "|5            |toro_rosso    |Toro Rosso|Italian    |http://en.wikipedia.org/wiki/Scuderia_Toro_Rosso            |\n",
      "+-------------+--------------+----------+-----------+------------------------------------------------------------+\n",
      "only showing top 5 rows\n",
      "\n",
      "root\n",
      " |-- constructorId: integer (nullable = true)\n",
      " |-- constructorRef: string (nullable = true)\n",
      " |-- name: string (nullable = true)\n",
      " |-- nationality: string (nullable = true)\n",
      " |-- url: string (nullable = true)\n",
      "\n"
     ]
    }
   ],
   "source": [
    "from pathlib import Path\n",
    "from pyspark.sql import functions as F, types as T\n",
    "\n",
    "RAW_DIR = Path(\"/Users/kalebmacedo/formula1-analytics-1/bronze/dados_originais\")\n",
    "SILVER_ROOT = Path(\"/Users/kalebmacedo/formula1-analytics-1/silver\")\n",
    "SILVER_ROOT.mkdir(parents=True, exist_ok=True)\n",
    "\n",
    "TABLE = \"constructors.csv\"\n",
    "path = RAW_DIR / TABLE\n",
    "assert path.exists(), f\"Arquivo não encontrado: {path}\"\n",
    "\n",
    "cons = spark.read.csv(str(path), header=True, inferSchema=True)\n",
    "cons.show(5, truncate=False)\n",
    "cons.printSchema()\n"
   ]
  },
  {
   "cell_type": "code",
   "execution_count": 5,
   "metadata": {},
   "outputs": [
    {
     "name": "stdout",
     "output_type": "stream",
     "text": [
      "Total de registros: 212\n",
      "+--------------+-------+---+\n",
      "|coluna        |missing|pct|\n",
      "+--------------+-------+---+\n",
      "|nationality   |0      |0.0|\n",
      "|constructorId |0      |0.0|\n",
      "|name          |0      |0.0|\n",
      "|url           |0      |0.0|\n",
      "|constructorRef|0      |0.0|\n",
      "+--------------+-------+---+\n",
      "\n",
      "Duplicatas (linhas idênticas): 0\n",
      "Duplicatas de PK (constructorId): 0\n"
     ]
    }
   ],
   "source": [
    "total = cons.count()\n",
    "print(\"Total de registros:\", total)\n",
    "\n",
    "miss = [(c, cons.filter(F.col(c).isNull() | (F.col(c) == \"\\\\N\")).count()) for c in cons.columns]\n",
    "miss = [(c, m, round(100*m/total,2)) for c,m in miss]\n",
    "spark.createDataFrame(miss, [\"coluna\",\"missing\",\"pct\"]).orderBy(F.desc(\"pct\")).show(truncate=False)\n",
    "\n",
    "dup_rows = cons.groupBy(cons.columns).count().filter(\"count > 1\").count()\n",
    "print(\"Duplicatas (linhas idênticas):\", dup_rows)\n",
    "\n",
    "dup_pk = cons.groupBy(\"constructorId\").count().filter(\"count > 1\").count()\n",
    "print(\"Duplicatas de PK (constructorId):\", dup_pk)\n"
   ]
  },
  {
   "cell_type": "code",
   "execution_count": 6,
   "metadata": {},
   "outputs": [
    {
     "name": "stdout",
     "output_type": "stream",
     "text": [
      "+-------------+-----+\n",
      "|nationality  |count|\n",
      "+-------------+-----+\n",
      "|British      |86   |\n",
      "|American     |39   |\n",
      "|Italian      |30   |\n",
      "|French       |13   |\n",
      "|German       |10   |\n",
      "|Swiss        |5    |\n",
      "|Japanese     |5    |\n",
      "|South African|3    |\n",
      "|Dutch        |3    |\n",
      "|Russian      |2    |\n",
      "|Malaysian    |2    |\n",
      "|Canadian     |2    |\n",
      "|Mexican      |1    |\n",
      "|Rhodesian    |1    |\n",
      "|Indian       |1    |\n",
      "|Irish        |1    |\n",
      "|Australian   |1    |\n",
      "|Spanish      |1    |\n",
      "|Austrian     |1    |\n",
      "|New Zealander|1    |\n",
      "+-------------+-----+\n",
      "only showing top 20 rows\n",
      "\n",
      "Diferenças entre constructorRef e slug derivado do name:\n",
      "+-------------+--------------+-----------------+-----------------+\n",
      "|constructorId|constructorRef|slug_from_name   |name             |\n",
      "+-------------+--------------+-----------------+-----------------+\n",
      "|2            |bmw_sauber    |bmw-sauber       |BMW Sauber       |\n",
      "|5            |toro_rosso    |toro-rosso       |Toro Rosso       |\n",
      "|8            |super_aguri   |super-aguri      |Super Aguri      |\n",
      "|9            |red_bull      |red-bull         |Red Bull         |\n",
      "|10           |force_india   |force-india      |Force India      |\n",
      "|14           |spyker_mf1    |spyker-mf1       |Spyker MF1       |\n",
      "|32           |team_lotus    |team-lotus       |Team Lotus       |\n",
      "|38           |moda          |andrea-moda      |Andrea Moda      |\n",
      "|41           |leyton        |leyton-house     |Leyton House     |\n",
      "|44           |eurobrun      |euro-brun        |Euro Brun        |\n",
      "|51           |alfa          |alfa-romeo       |Alfa Romeo       |\n",
      "|75           |hill          |embassy-hill     |Embassy Hill     |\n",
      "|80           |iso_marlboro  |iso-marlboro     |Iso Marlboro     |\n",
      "|86           |tomaso        |de-tomaso        |De Tomaso        |\n",
      "|113          |kurtis_kraft  |kurtis-kraft     |Kurtis Kraft     |\n",
      "|115          |vhristensen   |christensen      |Christensen      |\n",
      "|117          |aston_martin  |aston-martin     |Aston Martin     |\n",
      "|143          |del_roy       |del-roy          |Del Roy          |\n",
      "|148          |frazer_nash   |frazer-nash      |Frazer Nash      |\n",
      "|152          |butterworth   |aston-butterworth|Aston Butterworth|\n",
      "+-------------+--------------+-----------------+-----------------+\n",
      "only showing top 20 rows\n",
      "\n"
     ]
    }
   ],
   "source": [
    "if \"nationality\" in cons.columns:\n",
    "    cons.groupBy(\"nationality\").count().orderBy(F.desc(\"count\")).show(20, truncate=False)\n",
    "\n",
    "if \"constructorRef\" in cons.columns and \"name\" in cons.columns:\n",
    "    from pyspark.sql.functions import lower, regexp_replace\n",
    "    slug_from_name = lower(regexp_replace(F.col(\"name\"), r\"[^a-zA-Z0-9]+\", \"-\"))\n",
    "    diffs = cons.withColumn(\"slug_from_name\", slug_from_name)\\\n",
    "                .filter(F.col(\"constructorRef\") != F.col(\"slug_from_name\"))\n",
    "    print(\"Diferenças entre constructorRef e slug derivado do name:\")\n",
    "    diffs.select(\"constructorId\",\"constructorRef\",\"slug_from_name\",\"name\").show(20, truncate=False)\n"
   ]
  },
  {
   "cell_type": "code",
   "execution_count": 8,
   "metadata": {},
   "outputs": [
    {
     "name": "stdout",
     "output_type": "stream",
     "text": [
      "Silver (Spark) criada em: /Users/kalebmacedo/formula1-analytics-1/silver/constructors/constructors_silver.csv\n",
      "CSV único salvo em: /Users/kalebmacedo/formula1-analytics-1/silver/constructors/constructors_silver_flat.csv\n"
     ]
    }
   ],
   "source": [
    "from pyspark.sql import Window\n",
    "import os, glob, shutil\n",
    "\n",
    "SILVER_DIR = SILVER_ROOT / \"constructors\"\n",
    "SILVER_DIR.mkdir(parents=True, exist_ok=True)\n",
    "\n",
    "clean = cons\n",
    "\n",
    "for c,t in clean.dtypes:\n",
    "    if t == \"string\":\n",
    "        clean = clean.withColumn(c, F.when(F.col(c)==\"\\\\N\", None).otherwise(F.col(c)))\n",
    "        clean = clean.withColumn(c, F.trim(F.col(c)))\n",
    "\n",
    "if \"constructorRef\" in clean.columns:\n",
    "    clean = clean.withColumn(\"constructorRef\",\n",
    "                             F.lower(F.regexp_replace(F.col(\"constructorRef\"), r\"\\s+\", \"\")))\n",
    "if \"name\" in clean.columns:\n",
    "    clean = clean.withColumn(\"name\", F.initcap(F.col(\"name\")))\n",
    "\n",
    "clean = clean.withColumn(\"constructorId\", F.col(\"constructorId\").cast(\"int\"))\n",
    "w = Window.partitionBy(\"constructorId\").orderBy(F.when(F.col(\"name\").isNull(), 1).otherwise(0))\n",
    "clean = clean.withColumn(\"rn\", F.row_number().over(w)).filter(F.col(\"rn\")==1).drop(\"rn\")\n",
    "\n",
    "out_dir = (SILVER_DIR / \"constructors_silver.csv\").as_posix()\n",
    "clean.coalesce(1).write.mode(\"overwrite\").option(\"header\", True).csv(out_dir)\n",
    "print(\"Silver (Spark) criada em:\", out_dir)\n",
    "\n",
    "parts = [p for p in glob.glob(os.path.join(out_dir, \"part-*.csv\")) if not os.path.basename(p).startswith(\".\")]\n",
    "if parts:\n",
    "    flat_dst = SILVER_DIR / \"constructors_silver_flat.csv\"\n",
    "    shutil.copy(parts[0], flat_dst)\n",
    "    print(\"CSV único salvo em:\", flat_dst)\n",
    "else:\n",
    "    print(\"Não encontrei part-*.csv dentro de\", out_dir)\n"
   ]
  },
  {
   "cell_type": "code",
   "execution_count": 9,
   "metadata": {},
   "outputs": [
    {
     "name": "stdout",
     "output_type": "stream",
     "text": [
      "+-------------+--------------+-----------+-----------+------------------------------------------------------------+\n",
      "|constructorId|constructorRef|name       |nationality|url                                                         |\n",
      "+-------------+--------------+-----------+-----------+------------------------------------------------------------+\n",
      "|1            |mclaren       |Mclaren    |British    |http://en.wikipedia.org/wiki/McLaren                        |\n",
      "|2            |bmw_sauber    |Bmw Sauber |German     |http://en.wikipedia.org/wiki/BMW_Sauber                     |\n",
      "|3            |williams      |Williams   |British    |http://en.wikipedia.org/wiki/Williams_Grand_Prix_Engineering|\n",
      "|4            |renault       |Renault    |French     |http://en.wikipedia.org/wiki/Renault_in_Formula_One         |\n",
      "|5            |toro_rosso    |Toro Rosso |Italian    |http://en.wikipedia.org/wiki/Scuderia_Toro_Rosso            |\n",
      "|6            |ferrari       |Ferrari    |Italian    |http://en.wikipedia.org/wiki/Scuderia_Ferrari               |\n",
      "|7            |toyota        |Toyota     |Japanese   |http://en.wikipedia.org/wiki/Toyota_Racing                  |\n",
      "|8            |super_aguri   |Super Aguri|Japanese   |http://en.wikipedia.org/wiki/Super_Aguri_F1                 |\n",
      "|9            |red_bull      |Red Bull   |Austrian   |http://en.wikipedia.org/wiki/Red_Bull_Racing                |\n",
      "|10           |force_india   |Force India|Indian     |http://en.wikipedia.org/wiki/Racing_Point_Force_India       |\n",
      "+-------------+--------------+-----------+-----------+------------------------------------------------------------+\n",
      "only showing top 10 rows\n",
      "\n"
     ]
    }
   ],
   "source": [
    "spark.read.csv(\n",
    "    \"/Users/kalebmacedo/formula1-analytics-1/silver/constructors/constructors_silver.csv\",\n",
    "    header=True, inferSchema=True\n",
    ").show(10, truncate=False)\n"
   ]
  }
 ],
 "metadata": {
  "kernelspec": {
   "display_name": "Python 3",
   "language": "python",
   "name": "python3"
  },
  "language_info": {
   "codemirror_mode": {
    "name": "ipython",
    "version": 3
   },
   "file_extension": ".py",
   "mimetype": "text/x-python",
   "name": "python",
   "nbconvert_exporter": "python",
   "pygments_lexer": "ipython3",
   "version": "3.11.13"
  }
 },
 "nbformat": 4,
 "nbformat_minor": 2
}
